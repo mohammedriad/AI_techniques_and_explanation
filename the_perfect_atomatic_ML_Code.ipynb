{
 "cells": [
  {
   "cell_type": "markdown",
   "id": "ec2e19a4",
   "metadata": {},
   "source": [
    "### --- import the libraries"
   ]
  },
  {
   "cell_type": "code",
   "execution_count": 48,
   "id": "bf67807d",
   "metadata": {},
   "outputs": [],
   "source": [
    "import pandas as pd \n",
    "import numpy as np \n",
    "import matplotlib.pyplot as plt \n",
    "from sklearn import model_selection ,impute ,preprocessing  ,svm , feature_selection ,metrics\n",
    "from imblearn.over_sampling import SMOTE\n",
    "from sklearn.neighbors import LocalOutlierFactor \n",
    "from tqdm import tqdm\n",
    "\n",
    "\n"
   ]
  },
  {
   "cell_type": "markdown",
   "id": "96b64634",
   "metadata": {},
   "source": [
    "###  Read Data From directory "
   ]
  },
  {
   "cell_type": "code",
   "execution_count": 49,
   "id": "fa7b39f0",
   "metadata": {},
   "outputs": [],
   "source": [
    "train_data = pd.read_csv('train.csv')\n",
    "test_data = pd.read_csv('test.csv')"
   ]
  },
  {
   "cell_type": "code",
   "execution_count": 50,
   "id": "4e103d1e",
   "metadata": {},
   "outputs": [
    {
     "data": {
      "text/html": [
       "<div>\n",
       "<style scoped>\n",
       "    .dataframe tbody tr th:only-of-type {\n",
       "        vertical-align: middle;\n",
       "    }\n",
       "\n",
       "    .dataframe tbody tr th {\n",
       "        vertical-align: top;\n",
       "    }\n",
       "\n",
       "    .dataframe thead th {\n",
       "        text-align: right;\n",
       "    }\n",
       "</style>\n",
       "<table border=\"1\" class=\"dataframe\">\n",
       "  <thead>\n",
       "    <tr style=\"text-align: right;\">\n",
       "      <th></th>\n",
       "      <th>PassengerId</th>\n",
       "      <th>Survived</th>\n",
       "      <th>Pclass</th>\n",
       "      <th>Name</th>\n",
       "      <th>Sex</th>\n",
       "      <th>Age</th>\n",
       "      <th>SibSp</th>\n",
       "      <th>Parch</th>\n",
       "      <th>Ticket</th>\n",
       "      <th>Fare</th>\n",
       "      <th>Cabin</th>\n",
       "      <th>Embarked</th>\n",
       "    </tr>\n",
       "  </thead>\n",
       "  <tbody>\n",
       "    <tr>\n",
       "      <th>0</th>\n",
       "      <td>1</td>\n",
       "      <td>0</td>\n",
       "      <td>3</td>\n",
       "      <td>Braund, Mr. Owen Harris</td>\n",
       "      <td>male</td>\n",
       "      <td>22.0</td>\n",
       "      <td>1</td>\n",
       "      <td>0</td>\n",
       "      <td>A/5 21171</td>\n",
       "      <td>7.2500</td>\n",
       "      <td>NaN</td>\n",
       "      <td>S</td>\n",
       "    </tr>\n",
       "    <tr>\n",
       "      <th>1</th>\n",
       "      <td>2</td>\n",
       "      <td>1</td>\n",
       "      <td>1</td>\n",
       "      <td>Cumings, Mrs. John Bradley (Florence Briggs Th...</td>\n",
       "      <td>female</td>\n",
       "      <td>38.0</td>\n",
       "      <td>1</td>\n",
       "      <td>0</td>\n",
       "      <td>PC 17599</td>\n",
       "      <td>71.2833</td>\n",
       "      <td>C85</td>\n",
       "      <td>C</td>\n",
       "    </tr>\n",
       "    <tr>\n",
       "      <th>2</th>\n",
       "      <td>3</td>\n",
       "      <td>1</td>\n",
       "      <td>3</td>\n",
       "      <td>Heikkinen, Miss. Laina</td>\n",
       "      <td>female</td>\n",
       "      <td>26.0</td>\n",
       "      <td>0</td>\n",
       "      <td>0</td>\n",
       "      <td>STON/O2. 3101282</td>\n",
       "      <td>7.9250</td>\n",
       "      <td>NaN</td>\n",
       "      <td>S</td>\n",
       "    </tr>\n",
       "    <tr>\n",
       "      <th>3</th>\n",
       "      <td>4</td>\n",
       "      <td>1</td>\n",
       "      <td>1</td>\n",
       "      <td>Futrelle, Mrs. Jacques Heath (Lily May Peel)</td>\n",
       "      <td>female</td>\n",
       "      <td>35.0</td>\n",
       "      <td>1</td>\n",
       "      <td>0</td>\n",
       "      <td>113803</td>\n",
       "      <td>53.1000</td>\n",
       "      <td>C123</td>\n",
       "      <td>S</td>\n",
       "    </tr>\n",
       "    <tr>\n",
       "      <th>4</th>\n",
       "      <td>5</td>\n",
       "      <td>0</td>\n",
       "      <td>3</td>\n",
       "      <td>Allen, Mr. William Henry</td>\n",
       "      <td>male</td>\n",
       "      <td>35.0</td>\n",
       "      <td>0</td>\n",
       "      <td>0</td>\n",
       "      <td>373450</td>\n",
       "      <td>8.0500</td>\n",
       "      <td>NaN</td>\n",
       "      <td>S</td>\n",
       "    </tr>\n",
       "    <tr>\n",
       "      <th>...</th>\n",
       "      <td>...</td>\n",
       "      <td>...</td>\n",
       "      <td>...</td>\n",
       "      <td>...</td>\n",
       "      <td>...</td>\n",
       "      <td>...</td>\n",
       "      <td>...</td>\n",
       "      <td>...</td>\n",
       "      <td>...</td>\n",
       "      <td>...</td>\n",
       "      <td>...</td>\n",
       "      <td>...</td>\n",
       "    </tr>\n",
       "    <tr>\n",
       "      <th>886</th>\n",
       "      <td>887</td>\n",
       "      <td>0</td>\n",
       "      <td>2</td>\n",
       "      <td>Montvila, Rev. Juozas</td>\n",
       "      <td>male</td>\n",
       "      <td>27.0</td>\n",
       "      <td>0</td>\n",
       "      <td>0</td>\n",
       "      <td>211536</td>\n",
       "      <td>13.0000</td>\n",
       "      <td>NaN</td>\n",
       "      <td>S</td>\n",
       "    </tr>\n",
       "    <tr>\n",
       "      <th>887</th>\n",
       "      <td>888</td>\n",
       "      <td>1</td>\n",
       "      <td>1</td>\n",
       "      <td>Graham, Miss. Margaret Edith</td>\n",
       "      <td>female</td>\n",
       "      <td>19.0</td>\n",
       "      <td>0</td>\n",
       "      <td>0</td>\n",
       "      <td>112053</td>\n",
       "      <td>30.0000</td>\n",
       "      <td>B42</td>\n",
       "      <td>S</td>\n",
       "    </tr>\n",
       "    <tr>\n",
       "      <th>888</th>\n",
       "      <td>889</td>\n",
       "      <td>0</td>\n",
       "      <td>3</td>\n",
       "      <td>Johnston, Miss. Catherine Helen \"Carrie\"</td>\n",
       "      <td>female</td>\n",
       "      <td>NaN</td>\n",
       "      <td>1</td>\n",
       "      <td>2</td>\n",
       "      <td>W./C. 6607</td>\n",
       "      <td>23.4500</td>\n",
       "      <td>NaN</td>\n",
       "      <td>S</td>\n",
       "    </tr>\n",
       "    <tr>\n",
       "      <th>889</th>\n",
       "      <td>890</td>\n",
       "      <td>1</td>\n",
       "      <td>1</td>\n",
       "      <td>Behr, Mr. Karl Howell</td>\n",
       "      <td>male</td>\n",
       "      <td>26.0</td>\n",
       "      <td>0</td>\n",
       "      <td>0</td>\n",
       "      <td>111369</td>\n",
       "      <td>30.0000</td>\n",
       "      <td>C148</td>\n",
       "      <td>C</td>\n",
       "    </tr>\n",
       "    <tr>\n",
       "      <th>890</th>\n",
       "      <td>891</td>\n",
       "      <td>0</td>\n",
       "      <td>3</td>\n",
       "      <td>Dooley, Mr. Patrick</td>\n",
       "      <td>male</td>\n",
       "      <td>32.0</td>\n",
       "      <td>0</td>\n",
       "      <td>0</td>\n",
       "      <td>370376</td>\n",
       "      <td>7.7500</td>\n",
       "      <td>NaN</td>\n",
       "      <td>Q</td>\n",
       "    </tr>\n",
       "  </tbody>\n",
       "</table>\n",
       "<p>891 rows × 12 columns</p>\n",
       "</div>"
      ],
      "text/plain": [
       "     PassengerId  Survived  Pclass  \\\n",
       "0              1         0       3   \n",
       "1              2         1       1   \n",
       "2              3         1       3   \n",
       "3              4         1       1   \n",
       "4              5         0       3   \n",
       "..           ...       ...     ...   \n",
       "886          887         0       2   \n",
       "887          888         1       1   \n",
       "888          889         0       3   \n",
       "889          890         1       1   \n",
       "890          891         0       3   \n",
       "\n",
       "                                                  Name     Sex   Age  SibSp  \\\n",
       "0                              Braund, Mr. Owen Harris    male  22.0      1   \n",
       "1    Cumings, Mrs. John Bradley (Florence Briggs Th...  female  38.0      1   \n",
       "2                               Heikkinen, Miss. Laina  female  26.0      0   \n",
       "3         Futrelle, Mrs. Jacques Heath (Lily May Peel)  female  35.0      1   \n",
       "4                             Allen, Mr. William Henry    male  35.0      0   \n",
       "..                                                 ...     ...   ...    ...   \n",
       "886                              Montvila, Rev. Juozas    male  27.0      0   \n",
       "887                       Graham, Miss. Margaret Edith  female  19.0      0   \n",
       "888           Johnston, Miss. Catherine Helen \"Carrie\"  female   NaN      1   \n",
       "889                              Behr, Mr. Karl Howell    male  26.0      0   \n",
       "890                                Dooley, Mr. Patrick    male  32.0      0   \n",
       "\n",
       "     Parch            Ticket     Fare Cabin Embarked  \n",
       "0        0         A/5 21171   7.2500   NaN        S  \n",
       "1        0          PC 17599  71.2833   C85        C  \n",
       "2        0  STON/O2. 3101282   7.9250   NaN        S  \n",
       "3        0            113803  53.1000  C123        S  \n",
       "4        0            373450   8.0500   NaN        S  \n",
       "..     ...               ...      ...   ...      ...  \n",
       "886      0            211536  13.0000   NaN        S  \n",
       "887      0            112053  30.0000   B42        S  \n",
       "888      2        W./C. 6607  23.4500   NaN        S  \n",
       "889      0            111369  30.0000  C148        C  \n",
       "890      0            370376   7.7500   NaN        Q  \n",
       "\n",
       "[891 rows x 12 columns]"
      ]
     },
     "execution_count": 50,
     "metadata": {},
     "output_type": "execute_result"
    }
   ],
   "source": [
    "train_data"
   ]
  },
  {
   "cell_type": "code",
   "execution_count": 51,
   "id": "ab283c61",
   "metadata": {},
   "outputs": [
    {
     "data": {
      "text/plain": [
       "(891, 12)"
      ]
     },
     "execution_count": 51,
     "metadata": {},
     "output_type": "execute_result"
    }
   ],
   "source": [
    "train_data.shape"
   ]
  },
  {
   "cell_type": "code",
   "execution_count": 52,
   "id": "0b9cf816",
   "metadata": {},
   "outputs": [],
   "source": [
    "# drooping un nessery columns \n",
    "train_data.drop(columns=['Name','PassengerId','Ticket' ,'Cabin'] , inplace=True)\n",
    "test_data.drop(columns=['Name','PassengerId','Ticket','Cabin' ] , inplace=True)"
   ]
  },
  {
   "cell_type": "markdown",
   "id": "111f5e34",
   "metadata": {},
   "source": [
    "### Function to convert columns from categrocal to numercal \n",
    "#### just give it the data "
   ]
  },
  {
   "cell_type": "code",
   "execution_count": 62,
   "id": "2da5a066",
   "metadata": {},
   "outputs": [],
   "source": [
    "def convert(  data , encoder = preprocessing.LabelEncoder()) :\n",
    "    categrocal_col = data.select_dtypes('object')\n",
    "    \n",
    "    for i in range (len(categrocal_col.columns)):\n",
    "        data[categrocal_col.columns[i]] = encoder.fit_transform(data[categrocal_col.columns[i]])\n",
    "    return data"
   ]
  },
  {
   "cell_type": "markdown",
   "id": "61f81502",
   "metadata": {},
   "source": [
    "### Function to handle Missing Value using imputer Model \n",
    "#### Also just pass the data "
   ]
  },
  {
   "cell_type": "code",
   "execution_count": null,
   "id": "61491202",
   "metadata": {},
   "outputs": [],
   "source": [
    "def handle_missing(data,n_neighbors =5  ):\n",
    "    columns_name = data.columns\n",
    "    imp = impute.KNNImputer(n_neighbors=5, weights=\"uniform\")\n",
    "    imp.fit(data)\n",
    "    data = imp.transform(data)\n",
    "    data = pd.DataFrame(data,columns=columns_name)\n",
    "    return data\n"
   ]
  },
  {
   "cell_type": "markdown",
   "id": "dfd0bf25",
   "metadata": {},
   "source": [
    "### Function to balance your data \n",
    "#### pass the feutures(x) and the targer (y) and it will return x and y with balanced classes \n",
    "#### and if the `scala_feutures` == True it also will return x_norm which is the scaled Feutures "
   ]
  },
  {
   "cell_type": "code",
   "execution_count": 102,
   "id": "4fde7718",
   "metadata": {},
   "outputs": [],
   "source": [
    "def balance_data (x,y , scala_feutures = True  , only_scaling = False):\n",
    "    x, y = SMOTE().fit_resample(x,y) \n",
    "    if scala_feutures:\n",
    "        x_normalizer = preprocessing.StandardScaler()\n",
    "        x_norm = x_normalizer.fit_transform(x)\n",
    "    if only_scaling :\n",
    "        x_normalizer = preprocessing.StandardScaler()\n",
    "        x_norm = x_normalizer.fit_transform(x)\n",
    "        return x_norm , y \n",
    "        exit(0)\n",
    "        \n",
    "    \n",
    "        \n",
    "    return x,y ,x_norm\n",
    "    "
   ]
  },
  {
   "cell_type": "markdown",
   "id": "70ae5990",
   "metadata": {},
   "source": [
    "### Function to detect and handel the outlier in the data \n",
    "##### it required the fetures (x) only \n",
    "##### and if you want the `outlier` data set the parameter `return_outlier` to True  \n",
    "##### it will return the fetures withot outlier "
   ]
  },
  {
   "cell_type": "code",
   "execution_count": 56,
   "id": "d9d7f45e",
   "metadata": {},
   "outputs": [],
   "source": [
    "def detect_outlier(fetures,contamination=0.1 , return_outlier=False) :\n",
    "    clf = LocalOutlierFactor(n_neighbors=20, contamination=contamination )\n",
    "    y_pred = clf.fit_predict(fetures)\n",
    "    inliers = fetures[y_pred == 1]    \n",
    "    outliers = fetures[y_pred == -1]\n",
    "    \n",
    "    fetures.loc[outliers.index] = fetures.loc[outliers.index]* np.nan\n",
    "    print (f\"outler values :\\n {fetures.isna().sum()}\")\n",
    "    if return_outlier:\n",
    "        return outliers\n",
    "        exit(0)\n",
    "    else:\n",
    "        fetures = handle_missing(fetures)\n",
    "        print(f\"\\n data after handling outlier \\n {fetures.isna().sum()}\")\n",
    "    return fetures\n",
    "    "
   ]
  },
  {
   "cell_type": "markdown",
   "id": "514f2e99",
   "metadata": {},
   "source": [
    "##### How to use these Functions !!"
   ]
  },
  {
   "cell_type": "markdown",
   "id": "b7e639b3",
   "metadata": {},
   "source": [
    "### `data = convert(train_data)`\n",
    "### `data = handle_missing(data)`\n"
   ]
  },
  {
   "cell_type": "code",
   "execution_count": 13,
   "id": "64270cae",
   "metadata": {},
   "outputs": [
    {
     "data": {
      "text/plain": [
       "((891, 7), (891,))"
      ]
     },
     "execution_count": 13,
     "metadata": {},
     "output_type": "execute_result"
    }
   ],
   "source": [
    "y = data['Survived']\n",
    "x = data.drop(columns=['Survived'])\n",
    "x.shape , y.shape"
   ]
  },
  {
   "cell_type": "code",
   "execution_count": 14,
   "id": "9ac0b569",
   "metadata": {},
   "outputs": [
    {
     "name": "stdout",
     "output_type": "stream",
     "text": [
      "outler values :\n",
      " Pclass      89\n",
      "Sex         89\n",
      "Age         89\n",
      "SibSp       89\n",
      "Parch       89\n",
      "Fare        89\n",
      "Embarked    89\n",
      "dtype: int64\n",
      "\n",
      " data after handling outlier \n",
      " Pclass      0\n",
      "Sex         0\n",
      "Age         0\n",
      "SibSp       0\n",
      "Parch       0\n",
      "Fare        0\n",
      "Embarked    0\n",
      "dtype: int64\n"
     ]
    }
   ],
   "source": [
    "x = detect_outlier(x) "
   ]
  },
  {
   "cell_type": "code",
   "execution_count": 15,
   "id": "30f6727d",
   "metadata": {},
   "outputs": [
    {
     "data": {
      "text/plain": [
       "0.0    549\n",
       "1.0    342\n",
       "Name: Survived, dtype: int64"
      ]
     },
     "execution_count": 15,
     "metadata": {},
     "output_type": "execute_result"
    }
   ],
   "source": [
    "y.value_counts()"
   ]
  },
  {
   "cell_type": "code",
   "execution_count": 16,
   "id": "9ce871d1",
   "metadata": {},
   "outputs": [],
   "source": [
    "x,y,x_norm = balance_data(x,y)"
   ]
  },
  {
   "cell_type": "code",
   "execution_count": 17,
   "id": "409c41a3",
   "metadata": {},
   "outputs": [
    {
     "data": {
      "text/html": [
       "<div>\n",
       "<style scoped>\n",
       "    .dataframe tbody tr th:only-of-type {\n",
       "        vertical-align: middle;\n",
       "    }\n",
       "\n",
       "    .dataframe tbody tr th {\n",
       "        vertical-align: top;\n",
       "    }\n",
       "\n",
       "    .dataframe thead th {\n",
       "        text-align: right;\n",
       "    }\n",
       "</style>\n",
       "<table border=\"1\" class=\"dataframe\">\n",
       "  <thead>\n",
       "    <tr style=\"text-align: right;\">\n",
       "      <th></th>\n",
       "      <th>Pclass</th>\n",
       "      <th>Sex</th>\n",
       "      <th>Age</th>\n",
       "      <th>SibSp</th>\n",
       "      <th>Parch</th>\n",
       "      <th>Fare</th>\n",
       "      <th>Embarked</th>\n",
       "    </tr>\n",
       "  </thead>\n",
       "  <tbody>\n",
       "    <tr>\n",
       "      <th>0</th>\n",
       "      <td>3.000000</td>\n",
       "      <td>1.000000</td>\n",
       "      <td>22.000000</td>\n",
       "      <td>1.000000</td>\n",
       "      <td>0.000000</td>\n",
       "      <td>7.250000</td>\n",
       "      <td>2.000000</td>\n",
       "    </tr>\n",
       "    <tr>\n",
       "      <th>1</th>\n",
       "      <td>1.000000</td>\n",
       "      <td>0.000000</td>\n",
       "      <td>38.000000</td>\n",
       "      <td>1.000000</td>\n",
       "      <td>0.000000</td>\n",
       "      <td>71.283300</td>\n",
       "      <td>0.000000</td>\n",
       "    </tr>\n",
       "    <tr>\n",
       "      <th>2</th>\n",
       "      <td>3.000000</td>\n",
       "      <td>0.000000</td>\n",
       "      <td>26.000000</td>\n",
       "      <td>0.000000</td>\n",
       "      <td>0.000000</td>\n",
       "      <td>7.925000</td>\n",
       "      <td>2.000000</td>\n",
       "    </tr>\n",
       "    <tr>\n",
       "      <th>3</th>\n",
       "      <td>1.000000</td>\n",
       "      <td>0.000000</td>\n",
       "      <td>35.000000</td>\n",
       "      <td>1.000000</td>\n",
       "      <td>0.000000</td>\n",
       "      <td>53.100000</td>\n",
       "      <td>2.000000</td>\n",
       "    </tr>\n",
       "    <tr>\n",
       "      <th>4</th>\n",
       "      <td>3.000000</td>\n",
       "      <td>1.000000</td>\n",
       "      <td>35.000000</td>\n",
       "      <td>0.000000</td>\n",
       "      <td>0.000000</td>\n",
       "      <td>8.050000</td>\n",
       "      <td>2.000000</td>\n",
       "    </tr>\n",
       "    <tr>\n",
       "      <th>...</th>\n",
       "      <td>...</td>\n",
       "      <td>...</td>\n",
       "      <td>...</td>\n",
       "      <td>...</td>\n",
       "      <td>...</td>\n",
       "      <td>...</td>\n",
       "      <td>...</td>\n",
       "    </tr>\n",
       "    <tr>\n",
       "      <th>1093</th>\n",
       "      <td>2.286783</td>\n",
       "      <td>0.628429</td>\n",
       "      <td>29.479618</td>\n",
       "      <td>0.557357</td>\n",
       "      <td>0.410224</td>\n",
       "      <td>32.793531</td>\n",
       "      <td>1.566085</td>\n",
       "    </tr>\n",
       "    <tr>\n",
       "      <th>1094</th>\n",
       "      <td>3.000000</td>\n",
       "      <td>0.000000</td>\n",
       "      <td>22.847062</td>\n",
       "      <td>0.960781</td>\n",
       "      <td>0.078437</td>\n",
       "      <td>16.123531</td>\n",
       "      <td>2.000000</td>\n",
       "    </tr>\n",
       "    <tr>\n",
       "      <th>1095</th>\n",
       "      <td>2.000000</td>\n",
       "      <td>0.000000</td>\n",
       "      <td>27.839380</td>\n",
       "      <td>0.000000</td>\n",
       "      <td>0.000000</td>\n",
       "      <td>12.623230</td>\n",
       "      <td>1.910767</td>\n",
       "    </tr>\n",
       "    <tr>\n",
       "      <th>1096</th>\n",
       "      <td>1.000000</td>\n",
       "      <td>0.000000</td>\n",
       "      <td>20.724708</td>\n",
       "      <td>2.454118</td>\n",
       "      <td>2.000000</td>\n",
       "      <td>262.658824</td>\n",
       "      <td>0.908236</td>\n",
       "    </tr>\n",
       "    <tr>\n",
       "      <th>1097</th>\n",
       "      <td>3.000000</td>\n",
       "      <td>0.000000</td>\n",
       "      <td>17.600000</td>\n",
       "      <td>0.000000</td>\n",
       "      <td>0.000000</td>\n",
       "      <td>7.879200</td>\n",
       "      <td>1.000000</td>\n",
       "    </tr>\n",
       "  </tbody>\n",
       "</table>\n",
       "<p>1098 rows × 7 columns</p>\n",
       "</div>"
      ],
      "text/plain": [
       "        Pclass       Sex        Age     SibSp     Parch        Fare  Embarked\n",
       "0     3.000000  1.000000  22.000000  1.000000  0.000000    7.250000  2.000000\n",
       "1     1.000000  0.000000  38.000000  1.000000  0.000000   71.283300  0.000000\n",
       "2     3.000000  0.000000  26.000000  0.000000  0.000000    7.925000  2.000000\n",
       "3     1.000000  0.000000  35.000000  1.000000  0.000000   53.100000  2.000000\n",
       "4     3.000000  1.000000  35.000000  0.000000  0.000000    8.050000  2.000000\n",
       "...        ...       ...        ...       ...       ...         ...       ...\n",
       "1093  2.286783  0.628429  29.479618  0.557357  0.410224   32.793531  1.566085\n",
       "1094  3.000000  0.000000  22.847062  0.960781  0.078437   16.123531  2.000000\n",
       "1095  2.000000  0.000000  27.839380  0.000000  0.000000   12.623230  1.910767\n",
       "1096  1.000000  0.000000  20.724708  2.454118  2.000000  262.658824  0.908236\n",
       "1097  3.000000  0.000000  17.600000  0.000000  0.000000    7.879200  1.000000\n",
       "\n",
       "[1098 rows x 7 columns]"
      ]
     },
     "execution_count": 17,
     "metadata": {},
     "output_type": "execute_result"
    }
   ],
   "source": [
    "x "
   ]
  },
  {
   "cell_type": "code",
   "execution_count": 68,
   "id": "632a5db2",
   "metadata": {},
   "outputs": [
    {
     "data": {
      "text/plain": [
       "array([[ 0.97474829,  0.93018736, -0.5611133 ,  0.44600622, -0.64147414],\n",
       "       [-1.51205995, -1.2370795 ,  0.70639529,  0.44600622,  0.79452762],\n",
       "       [ 0.97474829, -1.2370795 , -0.24423615, -0.54430615, -0.62633669],\n",
       "       ...,\n",
       "       [-0.26865583, -1.2370795 , -0.0985218 , -0.54430615, -0.52097485],\n",
       "       [-1.51205995, -1.2370795 , -0.66214102,  1.88603726,  5.08628815],\n",
       "       [ 0.97474829, -1.2370795 , -0.90967816, -0.54430615, -0.62736379]])"
      ]
     },
     "execution_count": 68,
     "metadata": {},
     "output_type": "execute_result"
    }
   ],
   "source": [
    "x_norm"
   ]
  },
  {
   "cell_type": "code",
   "execution_count": 69,
   "id": "23952fe9",
   "metadata": {},
   "outputs": [
    {
     "data": {
      "text/plain": [
       "0       0.0\n",
       "1       1.0\n",
       "2       1.0\n",
       "3       1.0\n",
       "4       0.0\n",
       "       ... \n",
       "1093    1.0\n",
       "1094    1.0\n",
       "1095    1.0\n",
       "1096    1.0\n",
       "1097    1.0\n",
       "Name: Survived, Length: 1098, dtype: float64"
      ]
     },
     "execution_count": 69,
     "metadata": {},
     "output_type": "execute_result"
    }
   ],
   "source": [
    "y"
   ]
  },
  {
   "cell_type": "markdown",
   "id": "fb8ba098",
   "metadata": {},
   "source": [
    "### Function to perform future selection on data \n",
    "##### it require the Futures (x) and scaled Fetures (x_norm) and Labels (y) , and the number of fetures to select \n",
    "##### its default = 10 "
   ]
  },
  {
   "cell_type": "code",
   "execution_count": 18,
   "id": "183e7ca7",
   "metadata": {},
   "outputs": [],
   "source": [
    "def future_selection(x,x_normlize,y,base_model =svm.SVC(kernel='linear',max_iter=-1) ,n_features_to_select=10 ) : \n",
    "    \n",
    "    \n",
    "    feature_selector = feature_selection.RFE(base_model,n_features_to_select=n_features_to_select)\n",
    "    feature_selector.fit(x_normlize,y)\n",
    "    new_x = feature_selector.transform(x_normlize)\n",
    "    print(f\"the shape of new data : {new_x.shape}\")\n",
    "    \n",
    "    selected_col = feature_selector.get_support()\n",
    "    return(x.loc[:,selected_col])\n"
   ]
  },
  {
   "cell_type": "code",
   "execution_count": 70,
   "id": "76453cf4",
   "metadata": {},
   "outputs": [],
   "source": [
    "# this function nessery for the cross validition function \n",
    "def train_test_split(x, y, train_indices, test_indices):\n",
    "    return x[train_indices], x[test_indices], y[train_indices], y[test_indices]"
   ]
  },
  {
   "cell_type": "markdown",
   "id": "02cf4197",
   "metadata": {},
   "source": [
    "### this function will return a data frame contain the number of fetures in the data and the accuracy of base model (svm) on it \n",
    "##### it require the fetures (x) and the scaled fetures(x_norm) and the base model (svm by default) if you want to change it \n",
    "Note: there are another methode to get the best number of fetures to select like `elpow methode` "
   ]
  },
  {
   "cell_type": "code",
   "execution_count": 20,
   "id": "c96191ff",
   "metadata": {},
   "outputs": [],
   "source": [
    "def get_the_best_number_of_futures_to_select( x,x_norm, base_model = svm.SVC(kernel='linear',max_iter=-1) ):\n",
    "    \n",
    "    kfold = model_selection.StratifiedShuffleSplit(n_splits=10,random_state=42)\n",
    "    \n",
    "    \n",
    "    best_k = {\n",
    "    'k':[],\n",
    "    'f1_score':[],\n",
    "    'recall_score':[],\n",
    "    'precision_score':[]\n",
    "                }\n",
    "    \n",
    "    for k in tqdm(range(len(x.columns))):\n",
    "        f1_score = []\n",
    "        recall_score = []\n",
    "        precision_score = []\n",
    "        k +=1\n",
    "\n",
    "    # Create the linear model\n",
    "    # Define the feature selection method\n",
    "        feature_selector = feature_selection.RFE(base_model,n_features_to_select=k)\n",
    "    # fit the feature Selection method on the x_norm and y\n",
    "        feature_selector.fit(x_norm,y)\n",
    "    # get the new fetures \n",
    "        new_x = feature_selector.transform(x_norm)\n",
    "\n",
    "    # Evaluate svm on the features for defiant k values form 1 to 20\n",
    "        for train_indexes,test_indexes in kfold.split(new_x,y):\n",
    "\n",
    "            x_train,x_test,y_train,y_test = train_test_split(new_x,y,train_indexes,test_indexes,)\n",
    "\n",
    "            model = svm.SVC()\n",
    "            model.fit(x_train,y_train)\n",
    "            pred = model.predict(x_test) \n",
    "\n",
    "\n",
    "            f1_score.append(metrics.f1_score(y_test,pred))\n",
    "            recall_score.append(metrics.recall_score(y_test,pred))\n",
    "            precision_score.append( metrics.precision_score(y_test,pred))\n",
    "\n",
    "\n",
    "\n",
    "        best_k['k'].append(k)\n",
    "        best_k['f1_score'].append( np.mean(f1_score))\n",
    "        best_k['recall_score'].append(np.mean( recall_score))\n",
    "        best_k['precision_score'].append( np.mean(precision_score))\n",
    "    scores_df = pd.DataFrame(best_k)\n",
    "    return scores_df\n",
    "\n",
    "    \n"
   ]
  },
  {
   "cell_type": "markdown",
   "id": "a50837c2",
   "metadata": {},
   "source": [
    "### here you will pass the fetures that you have chooce and labels and the model and the function will return \n",
    "### a data frame contain the performance of the model on each pach of the data \n",
    "#### you can take the average of that dataframe so you will get a better lock on your model performence "
   ]
  },
  {
   "cell_type": "code",
   "execution_count": 71,
   "id": "1eb63218",
   "metadata": {},
   "outputs": [],
   "source": [
    "def cross_validition (  x_norm,y,model = svm.SVC(),task ='Classification'   ):\n",
    "    \n",
    "    if task == 'Classification':\n",
    "        scores_df=[]\n",
    "\n",
    "        \n",
    "        kfold = model_selection.StratifiedShuffleSplit(n_splits=10)\n",
    "        accuracy = []\n",
    "        precision = []\n",
    "        recall = []\n",
    "        f1_score = []\n",
    "        test_idicses = []\n",
    "        \n",
    "        for train_indices, test_indices in kfold.split(x_norm,y): \n",
    "            x_train, x_test, y_train, y_test = train_test_split(x_norm,y, train_indices, test_indices)\n",
    "            \n",
    "            # Train model\n",
    "            model.fit(x_train, y_train)\n",
    "    \n",
    "    \n",
    "            # Predict using test set\n",
    "            y_pred = model.predict(x_test)\n",
    "    \n",
    "             # Calculate scores\n",
    "            accuracy.append( metrics.accuracy_score(y_test, y_pred))\n",
    "            precision.append( metrics.precision_score(y_test, y_pred))\n",
    "            recall.append( metrics.recall_score(y_test, y_pred))\n",
    "            f1_score.append(metrics.f1_score(y_test, y_pred))\n",
    "            test_idicses.append(test_indices)\n",
    "        \n",
    "        scores_df = pd.DataFrame({\"accuracy\": accuracy, \n",
    "                          \"precision\": precision, \n",
    "                          \"recall\": recall,\n",
    "                          \"F1\":f1_score  , \n",
    "                        \n",
    "                         'test_indices' :test_idicses})\n",
    "    \n",
    "            \n",
    "            \n",
    "    return scores_df\n",
    "    \n",
    "    \n",
    "    \n",
    "    "
   ]
  },
  {
   "cell_type": "markdown",
   "id": "5807641f",
   "metadata": {},
   "source": [
    "# implement of the functions on the titanic data "
   ]
  },
  {
   "cell_type": "code",
   "execution_count": 74,
   "id": "6e467553",
   "metadata": {},
   "outputs": [],
   "source": [
    "# here we convert and handle missing values \n",
    "data = convert(train_data)\n",
    "data = handle_missing(data)"
   ]
  },
  {
   "cell_type": "code",
   "execution_count": 79,
   "id": "50191ad8",
   "metadata": {},
   "outputs": [
    {
     "data": {
      "text/html": [
       "<div>\n",
       "<style scoped>\n",
       "    .dataframe tbody tr th:only-of-type {\n",
       "        vertical-align: middle;\n",
       "    }\n",
       "\n",
       "    .dataframe tbody tr th {\n",
       "        vertical-align: top;\n",
       "    }\n",
       "\n",
       "    .dataframe thead th {\n",
       "        text-align: right;\n",
       "    }\n",
       "</style>\n",
       "<table border=\"1\" class=\"dataframe\">\n",
       "  <thead>\n",
       "    <tr style=\"text-align: right;\">\n",
       "      <th></th>\n",
       "      <th>Survived</th>\n",
       "      <th>Pclass</th>\n",
       "      <th>Sex</th>\n",
       "      <th>Age</th>\n",
       "      <th>SibSp</th>\n",
       "      <th>Parch</th>\n",
       "      <th>Fare</th>\n",
       "      <th>Embarked</th>\n",
       "    </tr>\n",
       "  </thead>\n",
       "  <tbody>\n",
       "    <tr>\n",
       "      <th>count</th>\n",
       "      <td>891.000000</td>\n",
       "      <td>891.000000</td>\n",
       "      <td>891.000000</td>\n",
       "      <td>891.000000</td>\n",
       "      <td>891.000000</td>\n",
       "      <td>891.000000</td>\n",
       "      <td>891.000000</td>\n",
       "      <td>891.000000</td>\n",
       "    </tr>\n",
       "    <tr>\n",
       "      <th>mean</th>\n",
       "      <td>0.383838</td>\n",
       "      <td>2.308642</td>\n",
       "      <td>0.647587</td>\n",
       "      <td>30.064819</td>\n",
       "      <td>0.523008</td>\n",
       "      <td>0.381594</td>\n",
       "      <td>32.204208</td>\n",
       "      <td>1.538721</td>\n",
       "    </tr>\n",
       "    <tr>\n",
       "      <th>std</th>\n",
       "      <td>0.486592</td>\n",
       "      <td>0.836071</td>\n",
       "      <td>0.477990</td>\n",
       "      <td>13.644439</td>\n",
       "      <td>1.102743</td>\n",
       "      <td>0.806057</td>\n",
       "      <td>49.693429</td>\n",
       "      <td>0.794231</td>\n",
       "    </tr>\n",
       "    <tr>\n",
       "      <th>min</th>\n",
       "      <td>0.000000</td>\n",
       "      <td>1.000000</td>\n",
       "      <td>0.000000</td>\n",
       "      <td>0.420000</td>\n",
       "      <td>0.000000</td>\n",
       "      <td>0.000000</td>\n",
       "      <td>0.000000</td>\n",
       "      <td>0.000000</td>\n",
       "    </tr>\n",
       "    <tr>\n",
       "      <th>25%</th>\n",
       "      <td>0.000000</td>\n",
       "      <td>2.000000</td>\n",
       "      <td>0.000000</td>\n",
       "      <td>21.000000</td>\n",
       "      <td>0.000000</td>\n",
       "      <td>0.000000</td>\n",
       "      <td>7.910400</td>\n",
       "      <td>1.000000</td>\n",
       "    </tr>\n",
       "    <tr>\n",
       "      <th>50%</th>\n",
       "      <td>0.000000</td>\n",
       "      <td>3.000000</td>\n",
       "      <td>1.000000</td>\n",
       "      <td>29.000000</td>\n",
       "      <td>0.000000</td>\n",
       "      <td>0.000000</td>\n",
       "      <td>14.454200</td>\n",
       "      <td>2.000000</td>\n",
       "    </tr>\n",
       "    <tr>\n",
       "      <th>75%</th>\n",
       "      <td>1.000000</td>\n",
       "      <td>3.000000</td>\n",
       "      <td>1.000000</td>\n",
       "      <td>38.000000</td>\n",
       "      <td>1.000000</td>\n",
       "      <td>0.000000</td>\n",
       "      <td>31.000000</td>\n",
       "      <td>2.000000</td>\n",
       "    </tr>\n",
       "    <tr>\n",
       "      <th>max</th>\n",
       "      <td>1.000000</td>\n",
       "      <td>3.000000</td>\n",
       "      <td>1.000000</td>\n",
       "      <td>80.000000</td>\n",
       "      <td>8.000000</td>\n",
       "      <td>6.000000</td>\n",
       "      <td>512.329200</td>\n",
       "      <td>3.000000</td>\n",
       "    </tr>\n",
       "  </tbody>\n",
       "</table>\n",
       "</div>"
      ],
      "text/plain": [
       "         Survived      Pclass         Sex         Age       SibSp       Parch  \\\n",
       "count  891.000000  891.000000  891.000000  891.000000  891.000000  891.000000   \n",
       "mean     0.383838    2.308642    0.647587   30.064819    0.523008    0.381594   \n",
       "std      0.486592    0.836071    0.477990   13.644439    1.102743    0.806057   \n",
       "min      0.000000    1.000000    0.000000    0.420000    0.000000    0.000000   \n",
       "25%      0.000000    2.000000    0.000000   21.000000    0.000000    0.000000   \n",
       "50%      0.000000    3.000000    1.000000   29.000000    0.000000    0.000000   \n",
       "75%      1.000000    3.000000    1.000000   38.000000    1.000000    0.000000   \n",
       "max      1.000000    3.000000    1.000000   80.000000    8.000000    6.000000   \n",
       "\n",
       "             Fare    Embarked  \n",
       "count  891.000000  891.000000  \n",
       "mean    32.204208    1.538721  \n",
       "std     49.693429    0.794231  \n",
       "min      0.000000    0.000000  \n",
       "25%      7.910400    1.000000  \n",
       "50%     14.454200    2.000000  \n",
       "75%     31.000000    2.000000  \n",
       "max    512.329200    3.000000  "
      ]
     },
     "execution_count": 79,
     "metadata": {},
     "output_type": "execute_result"
    }
   ],
   "source": [
    "data.describe()\n",
    "# from locking on the data we see that there is a very little outlier so we wil hundel it "
   ]
  },
  {
   "cell_type": "code",
   "execution_count": 86,
   "id": "e4be9705",
   "metadata": {},
   "outputs": [
    {
     "data": {
      "text/plain": [
       "((891, 7), (891,))"
      ]
     },
     "execution_count": 86,
     "metadata": {},
     "output_type": "execute_result"
    }
   ],
   "source": [
    "# split the data \n",
    "y = data['Survived']\n",
    "x = data.drop(columns=['Survived'])\n",
    "x.shape , y.shape\n"
   ]
  },
  {
   "cell_type": "code",
   "execution_count": 87,
   "id": "a47bef18",
   "metadata": {},
   "outputs": [
    {
     "name": "stdout",
     "output_type": "stream",
     "text": [
      "outler values :\n",
      " Pclass      89\n",
      "Sex         89\n",
      "Age         89\n",
      "SibSp       89\n",
      "Parch       89\n",
      "Fare        89\n",
      "Embarked    89\n",
      "dtype: int64\n",
      "\n",
      " data after handling outlier \n",
      " Pclass      0\n",
      "Sex         0\n",
      "Age         0\n",
      "SibSp       0\n",
      "Parch       0\n",
      "Fare        0\n",
      "Embarked    0\n",
      "dtype: int64\n"
     ]
    }
   ],
   "source": [
    "x = detect_outlier(x)"
   ]
  },
  {
   "cell_type": "code",
   "execution_count": 91,
   "id": "5660faa1",
   "metadata": {},
   "outputs": [
    {
     "data": {
      "text/html": [
       "<div>\n",
       "<style scoped>\n",
       "    .dataframe tbody tr th:only-of-type {\n",
       "        vertical-align: middle;\n",
       "    }\n",
       "\n",
       "    .dataframe tbody tr th {\n",
       "        vertical-align: top;\n",
       "    }\n",
       "\n",
       "    .dataframe thead th {\n",
       "        text-align: right;\n",
       "    }\n",
       "</style>\n",
       "<table border=\"1\" class=\"dataframe\">\n",
       "  <thead>\n",
       "    <tr style=\"text-align: right;\">\n",
       "      <th></th>\n",
       "      <th>Pclass</th>\n",
       "      <th>Sex</th>\n",
       "      <th>Age</th>\n",
       "      <th>SibSp</th>\n",
       "      <th>Parch</th>\n",
       "      <th>Fare</th>\n",
       "      <th>Embarked</th>\n",
       "    </tr>\n",
       "  </thead>\n",
       "  <tbody>\n",
       "    <tr>\n",
       "      <th>count</th>\n",
       "      <td>891.000000</td>\n",
       "      <td>891.000000</td>\n",
       "      <td>891.000000</td>\n",
       "      <td>891.000000</td>\n",
       "      <td>891.000000</td>\n",
       "      <td>891.000000</td>\n",
       "      <td>891.000000</td>\n",
       "    </tr>\n",
       "    <tr>\n",
       "      <th>mean</th>\n",
       "      <td>2.286783</td>\n",
       "      <td>0.628429</td>\n",
       "      <td>29.479618</td>\n",
       "      <td>0.557357</td>\n",
       "      <td>0.410224</td>\n",
       "      <td>32.793531</td>\n",
       "      <td>1.566085</td>\n",
       "    </tr>\n",
       "    <tr>\n",
       "      <th>std</th>\n",
       "      <td>0.798904</td>\n",
       "      <td>0.458713</td>\n",
       "      <td>12.528054</td>\n",
       "      <td>1.071522</td>\n",
       "      <td>0.788995</td>\n",
       "      <td>40.375151</td>\n",
       "      <td>0.733621</td>\n",
       "    </tr>\n",
       "    <tr>\n",
       "      <th>min</th>\n",
       "      <td>1.000000</td>\n",
       "      <td>0.000000</td>\n",
       "      <td>0.420000</td>\n",
       "      <td>0.000000</td>\n",
       "      <td>0.000000</td>\n",
       "      <td>6.437500</td>\n",
       "      <td>0.000000</td>\n",
       "    </tr>\n",
       "    <tr>\n",
       "      <th>25%</th>\n",
       "      <td>2.000000</td>\n",
       "      <td>0.000000</td>\n",
       "      <td>22.000000</td>\n",
       "      <td>0.000000</td>\n",
       "      <td>0.000000</td>\n",
       "      <td>8.050000</td>\n",
       "      <td>1.566085</td>\n",
       "    </tr>\n",
       "    <tr>\n",
       "      <th>50%</th>\n",
       "      <td>2.286783</td>\n",
       "      <td>1.000000</td>\n",
       "      <td>29.479618</td>\n",
       "      <td>0.000000</td>\n",
       "      <td>0.000000</td>\n",
       "      <td>21.000000</td>\n",
       "      <td>2.000000</td>\n",
       "    </tr>\n",
       "    <tr>\n",
       "      <th>75%</th>\n",
       "      <td>3.000000</td>\n",
       "      <td>1.000000</td>\n",
       "      <td>36.000000</td>\n",
       "      <td>1.000000</td>\n",
       "      <td>0.410224</td>\n",
       "      <td>32.793531</td>\n",
       "      <td>2.000000</td>\n",
       "    </tr>\n",
       "    <tr>\n",
       "      <th>max</th>\n",
       "      <td>3.000000</td>\n",
       "      <td>1.000000</td>\n",
       "      <td>70.000000</td>\n",
       "      <td>8.000000</td>\n",
       "      <td>6.000000</td>\n",
       "      <td>263.000000</td>\n",
       "      <td>3.000000</td>\n",
       "    </tr>\n",
       "  </tbody>\n",
       "</table>\n",
       "</div>"
      ],
      "text/plain": [
       "           Pclass         Sex         Age       SibSp       Parch        Fare  \\\n",
       "count  891.000000  891.000000  891.000000  891.000000  891.000000  891.000000   \n",
       "mean     2.286783    0.628429   29.479618    0.557357    0.410224   32.793531   \n",
       "std      0.798904    0.458713   12.528054    1.071522    0.788995   40.375151   \n",
       "min      1.000000    0.000000    0.420000    0.000000    0.000000    6.437500   \n",
       "25%      2.000000    0.000000   22.000000    0.000000    0.000000    8.050000   \n",
       "50%      2.286783    1.000000   29.479618    0.000000    0.000000   21.000000   \n",
       "75%      3.000000    1.000000   36.000000    1.000000    0.410224   32.793531   \n",
       "max      3.000000    1.000000   70.000000    8.000000    6.000000  263.000000   \n",
       "\n",
       "         Embarked  \n",
       "count  891.000000  \n",
       "mean     1.566085  \n",
       "std      0.733621  \n",
       "min      0.000000  \n",
       "25%      1.566085  \n",
       "50%      2.000000  \n",
       "75%      2.000000  \n",
       "max      3.000000  "
      ]
     },
     "execution_count": 91,
     "metadata": {},
     "output_type": "execute_result"
    }
   ],
   "source": [
    "x.describe() \n",
    "# now we could see that this little outlier gone "
   ]
  },
  {
   "cell_type": "code",
   "execution_count": 93,
   "id": "a7256bbb",
   "metadata": {},
   "outputs": [
    {
     "data": {
      "text/plain": [
       "0.0    549\n",
       "1.0    342\n",
       "Name: Survived, dtype: int64"
      ]
     },
     "execution_count": 93,
     "metadata": {},
     "output_type": "execute_result"
    }
   ],
   "source": [
    "# now lets check for data balance \n",
    "y.value_counts()\n",
    "# we need to balance it "
   ]
  },
  {
   "cell_type": "code",
   "execution_count": 94,
   "id": "6f163960",
   "metadata": {},
   "outputs": [],
   "source": [
    "x,y,x_norm = balance_data(x,y) "
   ]
  },
  {
   "cell_type": "code",
   "execution_count": 95,
   "id": "f6da8167",
   "metadata": {},
   "outputs": [
    {
     "data": {
      "text/plain": [
       "0.0    549\n",
       "1.0    549\n",
       "Name: Survived, dtype: int64"
      ]
     },
     "execution_count": 95,
     "metadata": {},
     "output_type": "execute_result"
    }
   ],
   "source": [
    "y.value_counts() "
   ]
  },
  {
   "cell_type": "code",
   "execution_count": 96,
   "id": "b60931f3",
   "metadata": {},
   "outputs": [
    {
     "name": "stderr",
     "output_type": "stream",
     "text": [
      "100%|████████████████████████████████████████████████████████████████████████████████████| 7/7 [00:05<00:00,  1.17it/s]\n"
     ]
    },
    {
     "data": {
      "text/html": [
       "<div>\n",
       "<style scoped>\n",
       "    .dataframe tbody tr th:only-of-type {\n",
       "        vertical-align: middle;\n",
       "    }\n",
       "\n",
       "    .dataframe tbody tr th {\n",
       "        vertical-align: top;\n",
       "    }\n",
       "\n",
       "    .dataframe thead th {\n",
       "        text-align: right;\n",
       "    }\n",
       "</style>\n",
       "<table border=\"1\" class=\"dataframe\">\n",
       "  <thead>\n",
       "    <tr style=\"text-align: right;\">\n",
       "      <th></th>\n",
       "      <th>k</th>\n",
       "      <th>f1_score</th>\n",
       "      <th>recall_score</th>\n",
       "      <th>precision_score</th>\n",
       "    </tr>\n",
       "  </thead>\n",
       "  <tbody>\n",
       "    <tr>\n",
       "      <th>0</th>\n",
       "      <td>1</td>\n",
       "      <td>0.733425</td>\n",
       "      <td>0.669091</td>\n",
       "      <td>0.817835</td>\n",
       "    </tr>\n",
       "    <tr>\n",
       "      <th>1</th>\n",
       "      <td>2</td>\n",
       "      <td>0.750434</td>\n",
       "      <td>0.683636</td>\n",
       "      <td>0.835149</td>\n",
       "    </tr>\n",
       "    <tr>\n",
       "      <th>2</th>\n",
       "      <td>3</td>\n",
       "      <td>0.809017</td>\n",
       "      <td>0.796364</td>\n",
       "      <td>0.823913</td>\n",
       "    </tr>\n",
       "    <tr>\n",
       "      <th>3</th>\n",
       "      <td>4</td>\n",
       "      <td>0.830476</td>\n",
       "      <td>0.818182</td>\n",
       "      <td>0.844784</td>\n",
       "    </tr>\n",
       "    <tr>\n",
       "      <th>4</th>\n",
       "      <td>5</td>\n",
       "      <td>0.821634</td>\n",
       "      <td>0.800000</td>\n",
       "      <td>0.846748</td>\n",
       "    </tr>\n",
       "    <tr>\n",
       "      <th>5</th>\n",
       "      <td>6</td>\n",
       "      <td>0.812767</td>\n",
       "      <td>0.785455</td>\n",
       "      <td>0.845111</td>\n",
       "    </tr>\n",
       "    <tr>\n",
       "      <th>6</th>\n",
       "      <td>7</td>\n",
       "      <td>0.820407</td>\n",
       "      <td>0.792727</td>\n",
       "      <td>0.852084</td>\n",
       "    </tr>\n",
       "  </tbody>\n",
       "</table>\n",
       "</div>"
      ],
      "text/plain": [
       "   k  f1_score  recall_score  precision_score\n",
       "0  1  0.733425      0.669091         0.817835\n",
       "1  2  0.750434      0.683636         0.835149\n",
       "2  3  0.809017      0.796364         0.823913\n",
       "3  4  0.830476      0.818182         0.844784\n",
       "4  5  0.821634      0.800000         0.846748\n",
       "5  6  0.812767      0.785455         0.845111\n",
       "6  7  0.820407      0.792727         0.852084"
      ]
     },
     "execution_count": 96,
     "metadata": {},
     "output_type": "execute_result"
    }
   ],
   "source": [
    "# now we need to select only the corrleted futures so we will get first the number of the best fetures \n",
    "get_the_best_number_of_futures_to_select(x,x_norm)"
   ]
  },
  {
   "cell_type": "code",
   "execution_count": 99,
   "id": "56d53ae3",
   "metadata": {},
   "outputs": [
    {
     "name": "stdout",
     "output_type": "stream",
     "text": [
      "the shape of new data : (1098, 7)\n"
     ]
    }
   ],
   "source": [
    "# i will use 7 columns \n",
    "best_fetures  = future_selection(x,x_norm,y ,n_features_to_select=7)\n"
   ]
  },
  {
   "cell_type": "code",
   "execution_count": 100,
   "id": "dfefea1b",
   "metadata": {},
   "outputs": [
    {
     "data": {
      "text/html": [
       "<div>\n",
       "<style scoped>\n",
       "    .dataframe tbody tr th:only-of-type {\n",
       "        vertical-align: middle;\n",
       "    }\n",
       "\n",
       "    .dataframe tbody tr th {\n",
       "        vertical-align: top;\n",
       "    }\n",
       "\n",
       "    .dataframe thead th {\n",
       "        text-align: right;\n",
       "    }\n",
       "</style>\n",
       "<table border=\"1\" class=\"dataframe\">\n",
       "  <thead>\n",
       "    <tr style=\"text-align: right;\">\n",
       "      <th></th>\n",
       "      <th>Pclass</th>\n",
       "      <th>Sex</th>\n",
       "      <th>Age</th>\n",
       "      <th>SibSp</th>\n",
       "      <th>Parch</th>\n",
       "      <th>Fare</th>\n",
       "      <th>Embarked</th>\n",
       "    </tr>\n",
       "  </thead>\n",
       "  <tbody>\n",
       "    <tr>\n",
       "      <th>0</th>\n",
       "      <td>3.000000</td>\n",
       "      <td>1.000000</td>\n",
       "      <td>22.000000</td>\n",
       "      <td>1.000000</td>\n",
       "      <td>0.0</td>\n",
       "      <td>7.250000</td>\n",
       "      <td>2.000000</td>\n",
       "    </tr>\n",
       "    <tr>\n",
       "      <th>1</th>\n",
       "      <td>1.000000</td>\n",
       "      <td>0.000000</td>\n",
       "      <td>38.000000</td>\n",
       "      <td>1.000000</td>\n",
       "      <td>0.0</td>\n",
       "      <td>71.283300</td>\n",
       "      <td>0.000000</td>\n",
       "    </tr>\n",
       "    <tr>\n",
       "      <th>2</th>\n",
       "      <td>3.000000</td>\n",
       "      <td>0.000000</td>\n",
       "      <td>26.000000</td>\n",
       "      <td>0.000000</td>\n",
       "      <td>0.0</td>\n",
       "      <td>7.925000</td>\n",
       "      <td>2.000000</td>\n",
       "    </tr>\n",
       "    <tr>\n",
       "      <th>3</th>\n",
       "      <td>1.000000</td>\n",
       "      <td>0.000000</td>\n",
       "      <td>35.000000</td>\n",
       "      <td>1.000000</td>\n",
       "      <td>0.0</td>\n",
       "      <td>53.100000</td>\n",
       "      <td>2.000000</td>\n",
       "    </tr>\n",
       "    <tr>\n",
       "      <th>4</th>\n",
       "      <td>3.000000</td>\n",
       "      <td>1.000000</td>\n",
       "      <td>35.000000</td>\n",
       "      <td>0.000000</td>\n",
       "      <td>0.0</td>\n",
       "      <td>8.050000</td>\n",
       "      <td>2.000000</td>\n",
       "    </tr>\n",
       "    <tr>\n",
       "      <th>...</th>\n",
       "      <td>...</td>\n",
       "      <td>...</td>\n",
       "      <td>...</td>\n",
       "      <td>...</td>\n",
       "      <td>...</td>\n",
       "      <td>...</td>\n",
       "      <td>...</td>\n",
       "    </tr>\n",
       "    <tr>\n",
       "      <th>1093</th>\n",
       "      <td>1.000000</td>\n",
       "      <td>1.000000</td>\n",
       "      <td>35.000000</td>\n",
       "      <td>0.000000</td>\n",
       "      <td>0.0</td>\n",
       "      <td>26.384938</td>\n",
       "      <td>1.257613</td>\n",
       "    </tr>\n",
       "    <tr>\n",
       "      <th>1094</th>\n",
       "      <td>1.000000</td>\n",
       "      <td>0.675797</td>\n",
       "      <td>50.351595</td>\n",
       "      <td>0.000000</td>\n",
       "      <td>0.0</td>\n",
       "      <td>26.348735</td>\n",
       "      <td>2.000000</td>\n",
       "    </tr>\n",
       "    <tr>\n",
       "      <th>1095</th>\n",
       "      <td>3.000000</td>\n",
       "      <td>0.000000</td>\n",
       "      <td>17.600000</td>\n",
       "      <td>0.000000</td>\n",
       "      <td>0.0</td>\n",
       "      <td>7.847756</td>\n",
       "      <td>1.000000</td>\n",
       "    </tr>\n",
       "    <tr>\n",
       "      <th>1096</th>\n",
       "      <td>3.000000</td>\n",
       "      <td>0.000000</td>\n",
       "      <td>22.989500</td>\n",
       "      <td>0.000000</td>\n",
       "      <td>0.0</td>\n",
       "      <td>7.552100</td>\n",
       "      <td>1.989500</td>\n",
       "    </tr>\n",
       "    <tr>\n",
       "      <th>1097</th>\n",
       "      <td>2.439039</td>\n",
       "      <td>1.000000</td>\n",
       "      <td>1.782715</td>\n",
       "      <td>1.756157</td>\n",
       "      <td>2.0</td>\n",
       "      <td>30.048206</td>\n",
       "      <td>2.000000</td>\n",
       "    </tr>\n",
       "  </tbody>\n",
       "</table>\n",
       "<p>1098 rows × 7 columns</p>\n",
       "</div>"
      ],
      "text/plain": [
       "        Pclass       Sex        Age     SibSp  Parch       Fare  Embarked\n",
       "0     3.000000  1.000000  22.000000  1.000000    0.0   7.250000  2.000000\n",
       "1     1.000000  0.000000  38.000000  1.000000    0.0  71.283300  0.000000\n",
       "2     3.000000  0.000000  26.000000  0.000000    0.0   7.925000  2.000000\n",
       "3     1.000000  0.000000  35.000000  1.000000    0.0  53.100000  2.000000\n",
       "4     3.000000  1.000000  35.000000  0.000000    0.0   8.050000  2.000000\n",
       "...        ...       ...        ...       ...    ...        ...       ...\n",
       "1093  1.000000  1.000000  35.000000  0.000000    0.0  26.384938  1.257613\n",
       "1094  1.000000  0.675797  50.351595  0.000000    0.0  26.348735  2.000000\n",
       "1095  3.000000  0.000000  17.600000  0.000000    0.0   7.847756  1.000000\n",
       "1096  3.000000  0.000000  22.989500  0.000000    0.0   7.552100  1.989500\n",
       "1097  2.439039  1.000000   1.782715  1.756157    2.0  30.048206  2.000000\n",
       "\n",
       "[1098 rows x 7 columns]"
      ]
     },
     "execution_count": 100,
     "metadata": {},
     "output_type": "execute_result"
    }
   ],
   "source": [
    "best_fetures"
   ]
  },
  {
   "cell_type": "code",
   "execution_count": 104,
   "id": "0c7d2099",
   "metadata": {},
   "outputs": [],
   "source": [
    "# now we will fit this fetures and labels in the svm model using cross validition \n",
    "# note that we need to scale the fetures before \n",
    "\n",
    "x_norm ,y = balance_data(best_fetures,y ,only_scaling=True)"
   ]
  },
  {
   "cell_type": "code",
   "execution_count": 105,
   "id": "4cef8b52",
   "metadata": {},
   "outputs": [
    {
     "data": {
      "text/plain": [
       "array([[ 0.95770423,  0.9251446 , -0.55735099, ..., -0.54545382,\n",
       "        -0.66035031,  0.62111035],\n",
       "       [-1.52929896, -1.2535902 ,  0.69932606, ..., -0.54545382,\n",
       "         0.90649463, -2.16507082],\n",
       "       [ 0.95770423, -1.2535902 , -0.24318173, ..., -0.54545382,\n",
       "        -0.64383359,  0.62111035],\n",
       "       ...,\n",
       "       [ 0.95770423, -1.2535902 , -0.90293718, ..., -0.54545382,\n",
       "        -0.64572367, -0.77198024],\n",
       "       [ 0.95770423, -1.2535902 , -0.47963337, ..., -0.54545382,\n",
       "        -0.65295816,  0.60648299],\n",
       "       [ 0.26014874,  0.9251446 , -2.14526335, ...,  2.03801468,\n",
       "        -0.10249597,  0.62111035]])"
      ]
     },
     "execution_count": 105,
     "metadata": {},
     "output_type": "execute_result"
    }
   ],
   "source": [
    "x_norm"
   ]
  },
  {
   "cell_type": "code",
   "execution_count": 106,
   "id": "32b5ad76",
   "metadata": {},
   "outputs": [
    {
     "data": {
      "text/plain": [
       "0       0.0\n",
       "1       1.0\n",
       "2       1.0\n",
       "3       1.0\n",
       "4       0.0\n",
       "       ... \n",
       "1093    1.0\n",
       "1094    1.0\n",
       "1095    1.0\n",
       "1096    1.0\n",
       "1097    1.0\n",
       "Name: Survived, Length: 1098, dtype: float64"
      ]
     },
     "execution_count": 106,
     "metadata": {},
     "output_type": "execute_result"
    }
   ],
   "source": [
    "y "
   ]
  },
  {
   "cell_type": "code",
   "execution_count": 110,
   "id": "0ae47682",
   "metadata": {},
   "outputs": [],
   "source": [
    "scores = cross_validition(x_norm,y)"
   ]
  },
  {
   "cell_type": "code",
   "execution_count": 111,
   "id": "c38efa10",
   "metadata": {},
   "outputs": [
    {
     "name": "stderr",
     "output_type": "stream",
     "text": [
      "C:\\Users\\hp center\\AppData\\Local\\Temp\\ipykernel_3268\\2395195840.py:1: FutureWarning: Dropping of nuisance columns in DataFrame reductions (with 'numeric_only=None') is deprecated; in a future version this will raise TypeError.  Select only valid columns before calling the reduction.\n",
      "  scores.mean()\n"
     ]
    },
    {
     "data": {
      "text/plain": [
       "accuracy     0.823636\n",
       "precision    0.855934\n",
       "recall       0.780000\n",
       "F1           0.815395\n",
       "dtype: float64"
      ]
     },
     "execution_count": 111,
     "metadata": {},
     "output_type": "execute_result"
    }
   ],
   "source": [
    "scores.mean()"
   ]
  },
  {
   "cell_type": "code",
   "execution_count": null,
   "id": "27d55c34",
   "metadata": {},
   "outputs": [],
   "source": []
  }
 ],
 "metadata": {
  "kernelspec": {
   "display_name": "Python 3 (ipykernel)",
   "language": "python",
   "name": "python3"
  },
  "language_info": {
   "codemirror_mode": {
    "name": "ipython",
    "version": 3
   },
   "file_extension": ".py",
   "mimetype": "text/x-python",
   "name": "python",
   "nbconvert_exporter": "python",
   "pygments_lexer": "ipython3",
   "version": "3.9.12"
  }
 },
 "nbformat": 4,
 "nbformat_minor": 5
}
